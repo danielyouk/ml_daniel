{
 "cells": [
  {
   "cell_type": "code",
   "execution_count": 1,
   "metadata": {},
   "outputs": [],
   "source": [
    "import pandas as pd"
   ]
  },
  {
   "cell_type": "code",
   "execution_count": 2,
   "metadata": {},
   "outputs": [],
   "source": [
    "def accuracy(y_true, y_pred): \n",
    "    \"\"\" \n",
    "    Function to calculate accuracy \n",
    "    :param y_true: list of true values \n",
    "    :param y_pred: list of predicted values \n",
    "    :return: accuracy score \n",
    "    \"\"\" \n",
    "    # initialize a simple counter for correct predictions \n",
    "    correct_counter = 0 \n",
    "    # loop over all elements of y_true \n",
    "    # and y_pred \"together\" \n",
    "    for yt, yp in zip(y_true, y_pred): \n",
    "        if yt == yp: \n",
    "            # if prediction is equal to truth, increase the counter \n",
    "            correct_counter += 1 \n",
    " \n",
    "    # return accuracy \n",
    "    # which is correct predictions over the number of samples \n",
    "    return correct_counter / len(y_true) "
   ]
  },
  {
   "cell_type": "code",
   "execution_count": 3,
   "metadata": {},
   "outputs": [],
   "source": [
    "def true_positive(y_true, y_pred): \n",
    "    \"\"\" \n",
    "    Function to calculate True Positives \n",
    "    :param y_true: list of true values \n",
    "    :param y_pred: list of predicted values \n",
    "    :return: number of true positives \n",
    "    \"\"\" \n",
    "    # initialize \n",
    "    tp = 0 \n",
    "    for yt, yp in zip(y_true, y_pred): \n",
    "        if yt == 1 and yp == 1: \n",
    "            tp += 1 \n",
    "    return tp \n",
    " \n",
    "def true_negative(y_true, y_pred): \n",
    "    \"\"\" \n",
    "    Function to calculate True Negatives \n",
    "    :param y_true: list of true values \n",
    "    :param y_pred: list of predicted values \n",
    "    :return: number of true negatives \n",
    "    \"\"\" \n",
    "    # initialize \n",
    "    tn = 0 \n",
    "    for yt, yp in zip(y_true, y_pred): \n",
    "        if yt == 0 and yp == 0: \n",
    "            tn += 1 \n",
    "    return tn \n",
    " \n",
    "def false_positive(y_true, y_pred): \n",
    "    \"\"\" \n",
    "    Function to calculate False Positives \n",
    "    :param y_true: list of true values \n",
    "    :param y_pred: list of predicted values \n",
    "    :return: number of false positives \n",
    "    \"\"\" \n",
    "    # initialize \n",
    "    fp = 0 \n",
    "    for yt, yp in zip(y_true, y_pred): \n",
    "        if yt == 0 and yp == 1: \n",
    "            fp += 1 \n",
    "    return fp \n",
    " \n",
    "def false_negative(y_true, y_pred): \n",
    "    \"\"\" \n",
    "    Function to calculate False Negatives \n",
    "    :param y_true: list of true values \n",
    "    :param y_pred: list of predicted values \n",
    "    :return: number of false negatives \n",
    "    \"\"\" \n",
    "    # initialize \n",
    "    fn = 0 \n",
    "    for yt, yp in zip(y_true, y_pred): \n",
    "        if yt == 1 and yp == 0: \n",
    "            fn += 1 \n",
    "    return fn"
   ]
  },
  {
   "cell_type": "code",
   "execution_count": 4,
   "metadata": {},
   "outputs": [],
   "source": [
    "def accuracy_v2(y_true, y_pred): \n",
    "    \"\"\" \n",
    "    Function to calculate accuracy using tp/tn/fp/fn \n",
    "    :param y_true: list of true values \n",
    "    :param y_pred: list of predicted values \n",
    "    :return: accuracy score \n",
    "    \"\"\" \n",
    "    tp = true_positive(y_true, y_pred) \n",
    "    fp = false_positive(y_true, y_pred) \n",
    "    fn = false_negative(y_true, y_pred) \n",
    "    tn = true_negative(y_true, y_pred) \n",
    "    accuracy_score = (tp + tn) / (tp + tn + fp + fn) \n",
    "    return accuracy_score"
   ]
  },
  {
   "cell_type": "code",
   "execution_count": 5,
   "metadata": {},
   "outputs": [],
   "source": [
    "def precision(y_true, y_pred): \n",
    "    \"\"\" \n",
    "    Function to calculate precision \n",
    "    :param y_true: list of true values \n",
    "    :param y_pred: list of predicted values \n",
    "    :return: precision score \n",
    "    \"\"\" \n",
    "    tp = true_positive(y_true, y_pred) \n",
    "    fp = false_positive(y_true, y_pred) \n",
    "    precision = tp / (tp + fp) \n",
    "    return precision "
   ]
  },
  {
   "cell_type": "code",
   "execution_count": 6,
   "metadata": {},
   "outputs": [],
   "source": [
    "def recall(y_true, y_pred): \n",
    "    \"\"\" \n",
    "    Function to calculate recall \n",
    "    :param y_true: list of true values \n",
    "    :param y_pred: list of predicted values \n",
    "    :return: recall score \n",
    "    \"\"\" \n",
    "    tp = true_positive(y_true, y_pred) \n",
    "    fn = false_negative(y_true, y_pred) \n",
    "    recall = tp / (tp + fn) \n",
    "    return recall"
   ]
  },
  {
   "cell_type": "code",
   "execution_count": 7,
   "metadata": {},
   "outputs": [],
   "source": [
    "y_true = [0, 0, 0, 1, 0, 0, 0, 0, 0, 0, 1, 0, 0, 0, 0, 0, 0, 0, 1, 0]\n",
    "y_pred = [0.02638412, 0.11114267, 0.31620708, 0.0490937,  0.0191491,  0.17554844, 0.15952202, 0.03819563, 0.11639273,0.079377, 0.08584789, 0.39095342, 0.27259048, 0.03447096, 0.04644807, 0.03543574, 0.18521942, 0.05934905, 0.61977213, 0.33056815]\n",
    "thresholds = [0.0490937 , 0.05934905, 0.079377, 0.08584789, 0.11114267, 0.11639273, 0.15952202, 0.17554844, 0.18521942, 0.27259048, 0.31620708, 0.33056815, 0.39095342, 0.61977213] "
   ]
  },
  {
   "cell_type": "code",
   "execution_count": 10,
   "metadata": {},
   "outputs": [
    {
     "data": {
      "image/png": "[encoded data removed]",
      "text/plain": [
       "<Figure size 700x700 with 1 Axes>"
      ]
     },
     "metadata": {},
     "output_type": "display_data"
    }
   ],
   "source": [
    "# graph the precisions and recalls and title for axis\n",
    "import matplotlib.pyplot as plt\n",
    "plt.figure(figsize=(7, 7))\n",
    "plt.plot(recalls, precisions, marker='o', linestyle='--', color='b')\n",
    "plt.xlabel('Recalls')\n",
    "plt.ylabel('Precisions')\n",
    "plt.title('Precisions and Recalls')\n",
    "plt.show()"
   ]
  },
  {
   "cell_type": "markdown",
   "metadata": {},
   "source": [
    "False Positive Rate (FPR)\n",
    "Definition: The proportion of actual negatives that are incorrectly identified as positive.\n",
    "​\n",
    " \n",
    "Importance: It tells us how often the model incorrectly flags negatives as positives, which is crucial for understanding the rate of false alarms."
   ]
  },
  {
   "cell_type": "code",
   "execution_count": 11,
   "metadata": {},
   "outputs": [],
   "source": [
    "def fpr(y_true, y_pred): \n",
    "    \"\"\" \n",
    "    Function to calculate fpr \n",
    "    :param y_true: list of true values \n",
    "    :param y_pred: list of predicted values \n",
    "    :return: fpr \n",
    "    \"\"\" \n",
    "    fp = false_positive(y_true, y_pred) \n",
    "    tn = true_negative(y_true, y_pred) \n",
    "    return fp / (tn + fp) "
   ]
  },
  {
   "cell_type": "markdown",
   "metadata": {},
   "source": [
    "## Use cases\n",
    "    - Recall vs Precision: Best for imbalanced datasets where the positive class is rare (e.g., fraud detection, medical diagnosis).\n",
    "    - ROC: When the classes are roughly balanced, and overall performance"
   ]
  },
  {
   "cell_type": "code",
   "execution_count": 13,
   "metadata": {},
   "outputs": [],
   "source": [
    "# precisions = [] \n",
    "# recalls = [] \n",
    "\n",
    "tps = []\n",
    "fps = []\n",
    "tns = []\n",
    "fns = []\n",
    "# for every threshold, calculate predictions in binary \n",
    "# and append calculated precisions and recalls \n",
    "# to their respective lists \n",
    "for i in thresholds: \n",
    "    temp_prediction = [1 if x >= i else 0 for x in y_pred] \n",
    "    # p = precision(y_true, temp_prediction) \n",
    "    # r = recall(y_true, temp_prediction) \n",
    "    tp = true_positive(y_true, temp_prediction)\n",
    "    fp = false_positive(y_true, temp_prediction)\n",
    "    tn = true_negative(y_true, temp_prediction)\n",
    "    fn = false_negative(y_true, temp_prediction)\n",
    "    # precisions.append(p) \n",
    "    # recalls.append(r)\n",
    "    tps.append(tp)\n",
    "    fps.append(fp)\n",
    "    tns.append(tn)\n",
    "    fns.append(fn)\n",
    "    # number of true positives\n",
    "    \n",
    "\n",
    "# create the dataframe with thresholds, precisions, and recalls\n",
    "df_confusion_metrix = pd.DataFrame({'Thresholds': thresholds, \n",
    "                                      'TruePositive': tps,'FalsePositive': fps,\n",
    "                                      'TrueNegative': tns,'FalseNegative': fns})"
   ]
  },
  {
   "cell_type": "code",
   "execution_count": 19,
   "metadata": {},
   "outputs": [],
   "source": [
    "df_confusion_metrix[\"recall\"] = df_confusion_metrix[\"TruePositive\"] / (df_confusion_metrix[\"TruePositive\"] + df_confusion_metrix[\"FalseNegative\"])\n",
    "df_confusion_metrix[\"precision\"] = df_confusion_metrix[\"TruePositive\"] / (df_confusion_metrix[\"TruePositive\"] + df_confusion_metrix[\"FalsePositive\"])\n",
    "df_confusion_metrix[\"FalsePositiveRatio\"] = df_confusion_metrix[\"FalsePositive\"] / (df_confusion_metrix[\"FalsePositive\"] + df_confusion_metrix[\"TrueNegative\"])\n",
    "\n",
    "# add F1 score to the dataframe\n",
    "df_confusion_metrix[\"f1_score\"] = 2 * (df_confusion_metrix[\"precision\"] * df_confusion_metrix[\"recall\"]) / (df_confusion_metrix[\"precision\"] + df_confusion_metrix[\"recall\"])"
   ]
  },
  {
   "cell_type": "code",
   "execution_count": 25,
   "metadata": {},
   "outputs": [
    {
     "data": {
      "application/vnd.plotly.v1+json": {
       "config": {
        "plotlyServerURL": "https://plot.ly"
       },
       "data": [
        {
         "mode": "lines+markers",
         "name": "Recall",
         "type": "scatter",
         "x": [
          0.05,
          0.06,
          0.08,
          0.09,
          0.11,
          0.12,
          0.16,
          0.18,
          0.19,
          0.27,
          0.32,
          0.33,
          0.39,
          0.62
         ],
         "y": [
          1,
          0.67,
          0.67,
          0.67,
          0.33,
          0.33,
          0.33,
          0.33,
          0.33,
          0.33,
          0.33,
          0.33,
          0.33,
          0.33
         ]
        },
        {
         "mode": "lines+markers",
         "name": "Precision",
         "type": "scatter",
         "x": [
          0.05,
          0.06,
          0.08,
          0.09,
          0.11,
          0.12,
          0.16,
          0.18,
          0.19,
          0.27,
          0.32,
          0.33,
          0.39,
          0.62
         ],
         "y": [
          0.21,
          0.15,
          0.17,
          0.18,
          0.1,
          0.11,
          0.12,
          0.14,
          0.17,
          0.2,
          0.25,
          0.33,
          0.5,
          1
         ]
        },
        {
         "mode": "lines+markers",
         "name": "F1 Score",
         "type": "scatter",
         "x": [
          0.05,
          0.06,
          0.08,
          0.09,
          0.11,
          0.12,
          0.16,
          0.18,
          0.19,
          0.27,
          0.32,
          0.33,
          0.39,
          0.62
         ],
         "y": [
          0.35,
          0.25,
          0.27,
          0.29,
          0.15,
          0.17,
          0.18,
          0.2,
          0.22,
          0.25,
          0.29,
          0.33,
          0.4,
          0.5
         ]
        }
       ],
       "layout": {
        "template": {
         "data": {
          "bar": [
           {
            "error_x": {
             "color": "#2a3f5f"
            },
            "error_y": {
             "color": "#2a3f5f"
            },
            "marker": {
             "line": {
              "color": "#E5ECF6",
              "width": 0.5
             },
             "pattern": {
              "fillmode": "overlay",
              "size": 10,
              "solidity": 0.2
             }
            },
            "type": "bar"
           }
          ],
          "barpolar": [
           {
            "marker": {
             "line": {
              "color": "#E5ECF6",
              "width": 0.5
             },
             "pattern": {
              "fillmode": "overlay",
              "size": 10,
              "solidity": 0.2
             }
            },
            "type": "barpolar"
           }
          ],
          "carpet": [
           {
            "aaxis": {
             "endlinecolor": "#2a3f5f",
             "gridcolor": "white",
             "linecolor": "white",
             "minorgridcolor": "white",
             "startlinecolor": "#2a3f5f"
            },
            "baxis": {
             "endlinecolor": "#2a3f5f",
             "gridcolor": "white",
             "linecolor": "white",
             "minorgridcolor": "white",
             "startlinecolor": "#2a3f5f"
            },
            "type": "carpet"
           }
          ],
          "choropleth": [
           {
            "colorbar": {
             "outlinewidth": 0,
             "ticks": ""
            },
            "type": "choropleth"
           }
          ],
          "contour": [
           {
            "colorbar": {
             "outlinewidth": 0,
             "ticks": ""
            },
            "colorscale": [
             [
              0,
              "#0d0887"
             ],
             [
              0.1111111111111111,
              "#46039f"
             ],
             [
              0.2222222222222222,
              "#7201a8"
             ],
             [
              0.3333333333333333,
              "#9c179e"
             ],
             [
              0.4444444444444444,
              "#bd3786"
             ],
             [
              0.5555555555555556,
              "#d8576b"
             ],
             [
              0.6666666666666666,
              "#ed7953"
             ],
             [
              0.7777777777777778,
              "#fb9f3a"
             ],
             [
              0.8888888888888888,
              "#fdca26"
             ],
             [
              1,
              "#f0f921"
             ]
            ],
            "type": "contour"
           }
          ],
          "contourcarpet": [
           {
            "colorbar": {
             "outlinewidth": 0,
             "ticks": ""
            },
            "type": "contourcarpet"
           }
          ],
          "heatmap": [
           {
            "colorbar": {
             "outlinewidth": 0,
             "ticks": ""
            },
            "colorscale": [
             [
              0,
              "#0d0887"
             ],
             [
              0.1111111111111111,
              "#46039f"
             ],
             [
              0.2222222222222222,
              "#7201a8"
             ],
             [
              0.3333333333333333,
              "#9c179e"
             ],
             [
              0.4444444444444444,
              "#bd3786"
             ],
             [
              0.5555555555555556,
              "#d8576b"
             ],
             [
              0.6666666666666666,
              "#ed7953"
             ],
             [
              0.7777777777777778,
              "#fb9f3a"
             ],
             [
              0.8888888888888888,
              "#fdca26"
             ],
             [
              1,
              "#f0f921"
             ]
            ],
            "type": "heatmap"
           }
          ],
          "heatmapgl": [
           {
            "colorbar": {
             "outlinewidth": 0,
             "ticks": ""
            },
            "colorscale": [
             [
              0,
              "#0d0887"
             ],
             [
              0.1111111111111111,
              "#46039f"
             ],
             [
              0.2222222222222222,
              "#7201a8"
             ],
             [
              0.3333333333333333,
              "#9c179e"
             ],
             [
              0.4444444444444444,
              "#bd3786"
             ],
             [
              0.5555555555555556,
              "#d8576b"
             ],
             [
              0.6666666666666666,
              "#ed7953"
             ],
             [
              0.7777777777777778,
              "#fb9f3a"
             ],
             [
              0.8888888888888888,
              "#fdca26"
             ],
             [
              1,
              "#f0f921"
             ]
            ],
            "type": "heatmapgl"
           }
          ],
          "histogram": [
           {
            "marker": {
             "pattern": {
              "fillmode": "overlay",
              "size": 10,
              "solidity": 0.2
             }
            },
            "type": "histogram"
           }
          ],
          "histogram2d": [
           {
            "colorbar": {
             "outlinewidth": 0,
             "ticks": ""
            },
            "colorscale": [
             [
              0,
              "#0d0887"
             ],
             [
              0.1111111111111111,
              "#46039f"
             ],
             [
              0.2222222222222222,
              "#7201a8"
             ],
             [
              0.3333333333333333,
              "#9c179e"
             ],
             [
              0.4444444444444444,
              "#bd3786"
             ],
             [
              0.5555555555555556,
              "#d8576b"
             ],
             [
              0.6666666666666666,
              "#ed7953"
             ],
             [
              0.7777777777777778,
              "#fb9f3a"
             ],
             [
              0.8888888888888888,
              "#fdca26"
             ],
             [
              1,
              "#f0f921"
             ]
            ],
            "type": "histogram2d"
           }
          ],
          "histogram2dcontour": [
           {
            "colorbar": {
             "outlinewidth": 0,
             "ticks": ""
            },
            "colorscale": [
             [
              0,
              "#0d0887"
             ],
             [
              0.1111111111111111,
              "#46039f"
             ],
             [
              0.2222222222222222,
              "#7201a8"
             ],
             [
              0.3333333333333333,
              "#9c179e"
             ],
             [
              0.4444444444444444,
              "#bd3786"
             ],
             [
              0.5555555555555556,
              "#d8576b"
             ],
             [
              0.6666666666666666,
              "#ed7953"
             ],
             [
              0.7777777777777778,
              "#fb9f3a"
             ],
             [
              0.8888888888888888,
              "#fdca26"
             ],
             [
              1,
              "#f0f921"
             ]
            ],
            "type": "histogram2dcontour"
           }
          ],
          "mesh3d": [
           {
            "colorbar": {
             "outlinewidth": 0,
             "ticks": ""
            },
            "type": "mesh3d"
           }
          ],
          "parcoords": [
           {
            "line": {
             "colorbar": {
              "outlinewidth": 0,
              "ticks": ""
             }
            },
            "type": "parcoords"
           }
          ],
          "pie": [
           {
            "automargin": true,
            "type": "pie"
           }
          ],
          "scatter": [
           {
            "fillpattern": {
             "fillmode": "overlay",
             "size": 10,
             "solidity": 0.2
            },
            "type": "scatter"
           }
          ],
          "scatter3d": [
           {
            "line": {
             "colorbar": {
              "outlinewidth": 0,
              "ticks": ""
             }
            },
            "marker": {
             "colorbar": {
              "outlinewidth": 0,
              "ticks": ""
             }
            },
            "type": "scatter3d"
           }
          ],
          "scattercarpet": [
           {
            "marker": {
             "colorbar": {
              "outlinewidth": 0,
              "ticks": ""
             }
            },
            "type": "scattercarpet"
           }
          ],
          "scattergeo": [
           {
            "marker": {
             "colorbar": {
              "outlinewidth": 0,
              "ticks": ""
             }
            },
            "type": "scattergeo"
           }
          ],
          "scattergl": [
           {
            "marker": {
             "colorbar": {
              "outlinewidth": 0,
              "ticks": ""
             }
            },
            "type": "scattergl"
           }
          ],
          "scattermapbox": [
           {
            "marker": {
             "colorbar": {
              "outlinewidth": 0,
              "ticks": ""
             }
            },
            "type": "scattermapbox"
           }
          ],
          "scatterpolar": [
           {
            "marker": {
             "colorbar": {
              "outlinewidth": 0,
              "ticks": ""
             }
            },
            "type": "scatterpolar"
           }
          ],
          "scatterpolargl": [
           {
            "marker": {
             "colorbar": {
              "outlinewidth": 0,
              "ticks": ""
             }
            },
            "type": "scatterpolargl"
           }
          ],
          "scatterternary": [
           {
            "marker": {
             "colorbar": {
              "outlinewidth": 0,
              "ticks": ""
             }
            },
            "type": "scatterternary"
           }
          ],
          "surface": [
           {
            "colorbar": {
             "outlinewidth": 0,
             "ticks": ""
            },
            "colorscale": [
             [
              0,
              "#0d0887"
             ],
             [
              0.1111111111111111,
              "#46039f"
             ],
             [
              0.2222222222222222,
              "#7201a8"
             ],
             [
              0.3333333333333333,
              "#9c179e"
             ],
             [
              0.4444444444444444,
              "#bd3786"
             ],
             [
              0.5555555555555556,
              "#d8576b"
             ],
             [
              0.6666666666666666,
              "#ed7953"
             ],
             [
              0.7777777777777778,
              "#fb9f3a"
             ],
             [
              0.8888888888888888,
              "#fdca26"
             ],
             [
              1,
              "#f0f921"
             ]
            ],
            "type": "surface"
           }
          ],
          "table": [
           {
            "cells": {
             "fill": {
              "color": "#EBF0F8"
             },
             "line": {
              "color": "white"
             }
            },
            "header": {
             "fill": {
              "color": "#C8D4E3"
             },
             "line": {
              "color": "white"
             }
            },
            "type": "table"
           }
          ]
         },
         "layout": {
          "annotationdefaults": {
           "arrowcolor": "#2a3f5f",
           "arrowhead": 0,
           "arrowwidth": 1
          },
          "autotypenumbers": "strict",
          "coloraxis": {
           "colorbar": {
            "outlinewidth": 0,
            "ticks": ""
           }
          },
          "colorscale": {
           "diverging": [
            [
             0,
             "#8e0152"
            ],
            [
             0.1,
             "#c51b7d"
            ],
            [
             0.2,
             "#de77ae"
            ],
            [
             0.3,
             "#f1b6da"
            ],
            [
             0.4,
             "#fde0ef"
            ],
            [
             0.5,
             "#f7f7f7"
            ],
            [
             0.6,
             "#e6f5d0"
            ],
            [
             0.7,
             "#b8e186"
            ],
            [
             0.8,
             "#7fbc41"
            ],
            [
             0.9,
             "#4d9221"
            ],
            [
             1,
             "#276419"
            ]
           ],
           "sequential": [
            [
             0,
             "#0d0887"
            ],
            [
             0.1111111111111111,
             "#46039f"
            ],
            [
             0.2222222222222222,
             "#7201a8"
            ],
            [
             0.3333333333333333,
             "#9c179e"
            ],
            [
             0.4444444444444444,
             "#bd3786"
            ],
            [
             0.5555555555555556,
             "#d8576b"
            ],
            [
             0.6666666666666666,
             "#ed7953"
            ],
            [
             0.7777777777777778,
             "#fb9f3a"
            ],
            [
             0.8888888888888888,
             "#fdca26"
            ],
            [
             1,
             "#f0f921"
            ]
           ],
           "sequentialminus": [
            [
             0,
             "#0d0887"
            ],
            [
             0.1111111111111111,
             "#46039f"
            ],
            [
             0.2222222222222222,
             "#7201a8"
            ],
            [
             0.3333333333333333,
             "#9c179e"
            ],
            [
             0.4444444444444444,
             "#bd3786"
            ],
            [
             0.5555555555555556,
             "#d8576b"
            ],
            [
             0.6666666666666666,
             "#ed7953"
            ],
            [
             0.7777777777777778,
             "#fb9f3a"
            ],
            [
             0.8888888888888888,
             "#fdca26"
            ],
            [
             1,
             "#f0f921"
            ]
           ]
          },
          "colorway": [
           "#636efa",
           "#EF553B",
           "#00cc96",
           "#ab63fa",
           "#FFA15A",
           "#19d3f3",
           "#FF6692",
           "#B6E880",
           "#FF97FF",
           "#FECB52"
          ],
          "font": {
           "color": "#2a3f5f"
          },
          "geo": {
           "bgcolor": "white",
           "lakecolor": "white",
           "landcolor": "#E5ECF6",
           "showlakes": true,
           "showland": true,
           "subunitcolor": "white"
          },
          "hoverlabel": {
           "align": "left"
          },
          "hovermode": "closest",
          "mapbox": {
           "style": "light"
          },
          "paper_bgcolor": "white",
          "plot_bgcolor": "#E5ECF6",
          "polar": {
           "angularaxis": {
            "gridcolor": "white",
            "linecolor": "white",
            "ticks": ""
           },
           "bgcolor": "#E5ECF6",
           "radialaxis": {
            "gridcolor": "white",
            "linecolor": "white",
            "ticks": ""
           }
          },
          "scene": {
           "xaxis": {
            "backgroundcolor": "#E5ECF6",
            "gridcolor": "white",
            "gridwidth": 2,
            "linecolor": "white",
            "showbackground": true,
            "ticks": "",
            "zerolinecolor": "white"
           },
           "yaxis": {
            "backgroundcolor": "#E5ECF6",
            "gridcolor": "white",
            "gridwidth": 2,
            "linecolor": "white",
            "showbackground": true,
            "ticks": "",
            "zerolinecolor": "white"
           },
           "zaxis": {
            "backgroundcolor": "#E5ECF6",
            "gridcolor": "white",
            "gridwidth": 2,
            "linecolor": "white",
            "showbackground": true,
            "ticks": "",
            "zerolinecolor": "white"
           }
          },
          "shapedefaults": {
           "line": {
            "color": "#2a3f5f"
           }
          },
          "ternary": {
           "aaxis": {
            "gridcolor": "white",
            "linecolor": "white",
            "ticks": ""
           },
           "baxis": {
            "gridcolor": "white",
            "linecolor": "white",
            "ticks": ""
           },
           "bgcolor": "#E5ECF6",
           "caxis": {
            "gridcolor": "white",
            "linecolor": "white",
            "ticks": ""
           }
          },
          "title": {
           "x": 0.05
          },
          "xaxis": {
           "automargin": true,
           "gridcolor": "white",
           "linecolor": "white",
           "ticks": "",
           "title": {
            "standoff": 15
           },
           "zerolinecolor": "white",
           "zerolinewidth": 2
          },
          "yaxis": {
           "automargin": true,
           "gridcolor": "white",
           "linecolor": "white",
           "ticks": "",
           "title": {
            "standoff": 15
           },
           "zerolinecolor": "white",
           "zerolinewidth": 2
          }
         }
        },
        "title": {
         "text": "Recalls, Precisions and F1 Score"
        },
        "xaxis": {
         "title": {
          "text": "Thresholds"
         }
        },
        "yaxis": {
         "title": {
          "text": "Scores"
         }
        }
       }
      }
     },
     "metadata": {},
     "output_type": "display_data"
    }
   ],
   "source": [
    "# plot the precisions and recalls and tultip for f1 score with plotly with dot style and line style\n",
    "# legend should be added for recalls and f1 score and precisions and title for the graph\n",
    "# import plotly.express as px\n",
    "# df_confusion_metrix_graph = df_confusion_metrix.round(2)\n",
    "# fig = px.line(df_confusion_metrix_graph, x='Thresholds', y=['recall', 'precision', 'f1_score'], title='Recalls, Precisions and F1 Score')\n",
    "# fig.show()\n",
    "\n",
    "# the above graph is only showint line, but it should be shown with dot style\n",
    "# so, we will use plotly graph objects to plot the graph with dot style\n",
    "import plotly.graph_objects as go\n",
    "df_confusion_metrix_graph = df_confusion_metrix.round(2)\n",
    "fig = go.Figure()\n",
    "fig.add_trace(go.Scatter(x=df_confusion_metrix_graph['Thresholds'], y=df_confusion_metrix_graph['recall'], mode='lines+markers', name='Recall'))\n",
    "fig.add_trace(go.Scatter(x=df_confusion_metrix_graph['Thresholds'], y=df_confusion_metrix_graph['precision'], mode='lines+markers', name='Precision'))\n",
    "fig.add_trace(go.Scatter(x=df_confusion_metrix_graph['Thresholds'], y=df_confusion_metrix_graph['f1_score'], mode='lines+markers', name='F1 Score'))\n",
    "fig.update_layout(title='Recalls, Precisions and F1 Score', xaxis_title='Thresholds', yaxis_title='Scores')\n",
    "fig.show()"
   ]
  },
  {
   "cell_type": "code",
   "execution_count": 30,
   "metadata": {},
   "outputs": [],
   "source": [
    "# actual targets \n",
    "y_true = [0, 0, 0, 0, 1, 0, 1,  \n",
    "          0, 0, 1, 0, 1, 0, 0, 1] \n",
    " \n",
    "# predicted probabilities of a sample being 1 \n",
    "y_pred = [0.1, 0.3, 0.2, 0.6, 0.8, 0.05,  \n",
    "          0.9, 0.5, 0.3, 0.66, 0.3, 0.2,  \n",
    "          0.85, 0.15, 0.99] \n",
    " \n",
    "# handmade thresholds \n",
    "thresholds = [0, 0.1, 0.2, 0.3, 0.4, 0.5, \n",
    "              0.6, 0.7, 0.8, 0.85, 0.9, 0.99, 1.0] "
   ]
  },
  {
   "cell_type": "code",
   "execution_count": 31,
   "metadata": {},
   "outputs": [],
   "source": [
    "tps = []\n",
    "fps = []\n",
    "tns = []\n",
    "fns = []\n",
    "# for every threshold, calculate predictions in binary \n",
    "# and append calculated precisions and recalls \n",
    "# to their respective lists \n",
    "for i in thresholds: \n",
    "    temp_prediction = [1 if x >= i else 0 for x in y_pred] \n",
    "    # p = precision(y_true, temp_prediction) \n",
    "    # r = recall(y_true, temp_prediction) \n",
    "    tp = true_positive(y_true, temp_prediction)\n",
    "    fp = false_positive(y_true, temp_prediction)\n",
    "    tn = true_negative(y_true, temp_prediction)\n",
    "    fn = false_negative(y_true, temp_prediction)\n",
    "    # precisions.append(p) \n",
    "    # recalls.append(r)\n",
    "    tps.append(tp)\n",
    "    fps.append(fp)\n",
    "    tns.append(tn)\n",
    "    fns.append(fn)\n",
    "    # number of true positives\n",
    "    \n",
    "\n",
    "# create the dataframe with thresholds, precisions, and recalls\n",
    "df_confusion_metrix = pd.DataFrame({'Thresholds': thresholds, \n",
    "                                      'TruePositive': tps,'FalsePositive': fps,\n",
    "                                      'TrueNegative': tns,'FalseNegative': fns})"
   ]
  },
  {
   "cell_type": "code",
   "execution_count": 33,
   "metadata": {},
   "outputs": [],
   "source": [
    "df_confusion_metrix[\"recall\"] = df_confusion_metrix[\"TruePositive\"] / (df_confusion_metrix[\"TruePositive\"] + df_confusion_metrix[\"FalseNegative\"])\n",
    "df_confusion_metrix[\"precision\"] = df_confusion_metrix[\"TruePositive\"] / (df_confusion_metrix[\"TruePositive\"] + df_confusion_metrix[\"FalsePositive\"])\n",
    "df_confusion_metrix[\"FalsePositiveRatio\"] = df_confusion_metrix[\"FalsePositive\"] / (df_confusion_metrix[\"FalsePositive\"] + df_confusion_metrix[\"TrueNegative\"])\n",
    "\n",
    "# add F1 score to the dataframe\n",
    "df_confusion_metrix[\"f1_score\"] = 2 * (df_confusion_metrix[\"precision\"] * df_confusion_metrix[\"recall\"]) / (df_confusion_metrix[\"precision\"] + df_confusion_metrix[\"recall\"])"
   ]
  },
  {
   "cell_type": "code",
   "execution_count": 34,
   "metadata": {},
   "outputs": [
    {
     "data": {
      "image/png": "[encoded data removed]",
      "text/plain": [
       "<Figure size 700x700 with 1 Axes>"
      ]
     },
     "metadata": {},
     "output_type": "display_data"
    }
   ],
   "source": [
    "# plot ROC curve\n",
    "df_confusion_metrix_graph = df_confusion_metrix.round(2)\n",
    "plt.figure(figsize=(7, 7))\n",
    "plt.plot(df_confusion_metrix_graph[\"FalsePositiveRatio\"], df_confusion_metrix_graph[\"recall\"], marker='o', linestyle='--', color='b')\n",
    "plt.xlabel('False Positive Ratio')\n",
    "plt.ylabel('True Positive Ratio')\n",
    "plt.title('ROC Curve')\n",
    "plt.show()"
   ]
  },
  {
   "cell_type": "code",
   "execution_count": 39,
   "metadata": {},
   "outputs": [
    {
     "name": "stdout",
     "output_type": "stream",
     "text": [
      "0.82\n"
     ]
    }
   ],
   "source": [
    "# calculate the area under the curve\n",
    "from sklearn.metrics import auc\n",
    "auc = auc(df_confusion_metrix[\"FalsePositiveRatio\"], df_confusion_metrix[\"recall\"])\n",
    "print(round(auc, 2))"
   ]
  },
  {
   "cell_type": "markdown",
   "metadata": {},
   "source": [
    "### Log-Loss\n",
    "$$\n",
    "\\text{Log Loss} = -\\frac{1}{N} \\sum_{i=1}^{N} \\left[ y_i \\log(p_i) + (1 - y_i) \\log(1 - p_i) \\right]\n",
    "$$\n",
    "\n",
    "Where:\n",
    "$$\n",
    "\\begin{align*}\n",
    "N & \\text{ is the number of samples.} \\\\\n",
    "y_i & \\text{ is the actual label of the } i \\text{-th sample (0 or 1).} \\\\\n",
    "p_i & \\text{ is the predicted probability of the } i \\text{-th sample being in class 1.}\n",
    "\\end{align*}\n",
    "$$\n"
   ]
  },
  {
   "cell_type": "markdown",
   "metadata": {},
   "source": [
    "Why Log Loss?\n",
    "* Probabilistic Predictions: Log loss considers the confidence of predictions by using the predicted probabilities, not just the final binary decision.\n",
    "* Penalization: It heavily penalizes wrong predictions that are made with high confidence. For example, predicting a probability close to 1 when the actual class is 0 results in a high log loss."
   ]
  },
  {
   "cell_type": "code",
   "execution_count": 40,
   "metadata": {},
   "outputs": [
    {
     "name": "stdout",
     "output_type": "stream",
     "text": [
      "Mean Absolute Error (MAE): 1.18\n",
      "Mean Squared Error (MSE): 2.61\n",
      "Root Mean Squared Error (RMSE): 1.62\n"
     ]
    },
    {
     "data": {
      "image/png": "[encoded data removed]",
      "text/plain": [
       "<Figure size 640x480 with 1 Axes>"
      ]
     },
     "metadata": {},
     "output_type": "display_data"
    }
   ],
   "source": [
    "import numpy as np\n",
    "import pandas as pd\n",
    "from sklearn.metrics import mean_absolute_error, mean_squared_error\n",
    "from sklearn.model_selection import train_test_split\n",
    "from sklearn.linear_model import LinearRegression\n",
    "\n",
    "# Create a dummy dataset\n",
    "np.random.seed(42)\n",
    "X = np.random.rand(100, 1) * 10  # 100 samples, 1 feature\n",
    "y = 3.5 * X.squeeze() + np.random.randn(100) * 2  # Linear relationship with some noise\n",
    "\n",
    "# Split the dataset into training and testing sets\n",
    "X_train, X_test, y_train, y_test = train_test_split(X, y, test_size=0.2, random_state=42)\n",
    "\n",
    "# Train a simple linear regression model\n",
    "model = LinearRegression()\n",
    "model.fit(X_train, y_train)\n",
    "\n",
    "# Predict on the test set\n",
    "y_pred = model.predict(X_test)\n",
    "\n",
    "# Calculate MAE, MSE, and RMSE\n",
    "mae = mean_absolute_error(y_test, y_pred)\n",
    "mse = mean_squared_error(y_test, y_pred)\n",
    "rmse = np.sqrt(mse)\n",
    "\n",
    "print(f\"Mean Absolute Error (MAE): {mae:.2f}\")\n",
    "print(f\"Mean Squared Error (MSE): {mse:.2f}\")\n",
    "print(f\"Root Mean Squared Error (RMSE): {rmse:.2f}\")\n",
    "\n",
    "# Optional: Plot the results\n",
    "import matplotlib.pyplot as plt\n",
    "\n",
    "plt.scatter(X_test, y_test, color='blue', label='Actual')\n",
    "plt.scatter(X_test, y_pred, color='red', label='Predicted')\n",
    "plt.xlabel('X')\n",
    "plt.ylabel('y')\n",
    "plt.title('Actual vs Predicted')\n",
    "plt.legend()\n",
    "plt.show()"
   ]
  }
 ],
 "metadata": {
  "kernelspec": {
   "display_name": "ml-mac",
   "language": "python",
   "name": "python3"
  },
  "language_info": {
   "codemirror_mode": {
    "name": "ipython",
    "version": 3
   },
   "file_extension": ".py",
   "mimetype": "text/x-python",
   "name": "python",
   "nbconvert_exporter": "python",
   "pygments_lexer": "ipython3",
   "version": "3.11.9"
  }
 },
 "nbformat": 4,
 "nbformat_minor": 2
}
