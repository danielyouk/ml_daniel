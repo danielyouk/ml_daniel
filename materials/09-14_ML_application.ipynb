{
 "cells": [
  {
   "cell_type": "markdown",
   "metadata": {},
   "source": [
    "### When to use a specific algorithm"
   ]
  },
  {
   "cell_type": "markdown",
   "metadata": {},
   "source": [
    "| Model                | Optimize                              | Range of values                                      | When to use (best use cases)                                 |\n",
    "|----------------------|---------------------------------------|-----------------------------------------------------|-------------------------------------------------------------|\n",
    "| Linear Regression    | - fit_intercept<br>- normalize        | - True/False<br>- True/False                         | 단순한 선형 관계와 해석이 쉬운 경우에 적합합니다.          |\n",
    "| Ridge                | - alpha<br>- fit_intercept<br>- normalize | - 0.01, 0.1, 1.0, 10, 100<br>- True/False<br>- True/False | 특성 간 다중공선성이 있을 때 적합합니다.                    |\n",
    "| k-neighbors          | - n_neighbors<br>- p                  | - 2, 4, 8, 16 ....<br>- 2, 3                          | 작은 또는 중간 크기의 데이터셋을 사용하는 분류 문제에 적합합니다. |\n",
    "| SVM                  | - C<br>- gamma<br>- class_weight      | - 0.001,0.01..10..100..1000<br>- ‘auto’, RS*<br>- ‘balanced’, None | 고차원 공간과 명확한 분리 경계를 가진 경우에 적합합니다. |\n",
    "| Logistic Regression  | - Penalty<br>- C                      | - l1 또는 l2<br>- 0.001, 0.01…..10…100                  | 이진 분류 문제에 적합합니다.                                  |\n",
    "| Lasso                | - Alpha<br>- Normalize                | - 0.1, 1.0, 10<br>- True/False                        | 특성 선택 및 과적합 감소에 유용합니다.                      |\n",
    "| Random Forest        | - n_estimators<br>- max_depth<br>- min_samples_split<br>- min_samples_leaf<br>- max_features | - 120, 300, 500, 800, 1200<br>- 5, 8, 15, 25, 30, None<br>- 1, 2, 5, 10, 15, 100<br>- 1, 2, 5, 10<br>- log2, sqrt, None | 높은 차원성과 결측값을 가진 대규모 데이터셋 처리에 적합합니다. |\n",
    "| XGBoost              | - eta<br>- gamma<br>- max_depth<br>- min_child_weight<br>- subsample<br>- colsample_bytree<br>- lambda<br>- alpha | - 0.01,0.015, 0.025, 0.05, 0.1<br>- 0.05-0.1,0.3,0.5,0.7,0.9,1.0<br>- 3, 5, 7, 9, 12, 15, 17, 25<br>- 1, 3, 5, 7<br>- 0.6, 0.7, 0.8, 0.9<br>- 0.6, 0.7, 0.8, 0.9, 1.0<br>- 0.01-0.1, 1.0, RS*<br>- 0, 0.1, 0.5, 1.0 RS* | 성능과 유연성 덕분에 구조화된 데이터와 대회에 이상적입니다. |\n"
   ]
  },
  {
   "cell_type": "markdown",
   "metadata": {},
   "source": [
    "### Revised Example Results Table with Hierarchical Columns\n",
    "\n",
    "| Model                | Task Type              | Classification Metrics |        |        |        | Regression Metrics |\n",
    "|----------------------|------------------------|------------------------|--------|--------|--------|--------------------|\n",
    "|                      |                        | Accuracy               | Precision | Recall | F1-Score | RMSE               |\n",
    "|----------------------|------------------------|------------------------|--------|--------|--------|--------------------|\n",
    "| **Linear Regression** | House Price Prediction | -                      | -      | -      | -      | 24000              |\n",
    "| **Ridge**             | House Price Prediction | -                      | -      | -      | -      | 23500              |\n",
    "| **k-neighbors**       | Cancer Detection       | 0.85                   | 0.80   | 0.88   | 0.84   | -                  |\n",
    "| **SVM**               | Cancer Detection       | 0.88                   | 0.85   | 0.90   | 0.87   | -                  |\n",
    "| **Logistic Regression** | Cancer Detection     | 0.89                   | 0.86   | 0.91   | 0.88   | -                  |\n",
    "| **Lasso**             | House Price Prediction | -                      | -      | -      | -      | 25000              |\n",
    "| **Random Forest**     | Both Tasks             | 0.90                   | 0.88   | 0.92   | 0.90   | 22000              |\n",
    "| **XGBoost**           | Both Tasks             | 0.92                   | 0.89   | 0.94   | 0.91   | 21000              |\n"
   ]
  },
  {
   "cell_type": "markdown",
   "metadata": {},
   "source": [
    "### Metric Comparison for various Machiene Learning Models\n",
    "\n",
    "| Model                | Task Type              | Classification Metrics - Accuracy | Classification Metrics - Precision | Classification Metrics - Recall | Classification Metrics - F1-Score | Regression Metrics - RMSE |\n",
    "|----------------------|------------------------|-----------------------------------|-------------------------------------|---------------------------------|-----------------------------------|--------------------------|\n",
    "| **Linear Regression** | House Price Prediction | -                                 | -                                   | -                               | -                                 | 24000                    |\n",
    "| **Ridge**             | House Price Prediction | -                                 | -                                   | -                               | -                                 | 23500                    |\n",
    "| **k-neighbors**       | Cancer Detection       | 0.85                              | 0.80                                | 0.88                            | 0.84                              | -                        |\n",
    "| **SVM**               | Cancer Detection       | 0.88                              | 0.85                                | 0.90                            | 0.87                              | -                        |\n",
    "| **Logistic Regression** | Cancer Detection     | 0.89                              | 0.86                                | 0.91                            | 0.88                              | -                        |\n",
    "| **Lasso**             | House Price Prediction | -                                 | -                                   | -                               | -                                 | 25000                    |\n",
    "| **Random Forest**     | Both Tasks             | 0.90                              | 0.88                                | 0.92                            | 0.90                              | 22000                    |\n",
    "| **XGBoost**           | Both Tasks             | 0.92                              | 0.89                                | 0.94                            | 0.91                              | 21000                    |\n"
   ]
  },
  {
   "cell_type": "markdown",
   "metadata": {},
   "source": [
    "### Revised Example Results Table with Hierarchical Columns\n",
    "\n",
    "| Model                | Task Type              | Classification Metrics |        |        |        | Regression Metrics |\n",
    "|----------------------|------------------------|------------------------|--------|--------|--------|--------------------|\n",
    "|                      |                        | Accuracy               | Precision | Recall | F1-Score | RMSE               |\n",
    "|----------------------|------------------------|------------------------|--------|--------|--------|--------------------|\n",
    "| **Linear Regression** | House Price Prediction | -                      | -      | -      | -      | 24000              |\n",
    "| **Ridge**             | House Price Prediction | -                      | -      | -      | -      | 23500              |\n",
    "| **k-neighbors**       | Cancer Detection       | 0.85                   | 0.80   | 0.88   | 0.84   | -                  |\n",
    "| **SVM**               | Cancer Detection       | 0.88                   | 0.85   | 0.90   | 0.87   | -                  |\n",
    "| **Logistic Regression** | Cancer Detection     | 0.89                   | 0.86   | 0.91   | 0.88   | -                  |\n",
    "| **Lasso**             | House Price Prediction | -                      | -      | -      | -      | 25000              |\n",
    "| **Random Forest**     | Both Tasks             | 0.90                   | 0.88   | 0.92   | 0.90   | 22000              |\n",
    "| **XGBoost**           | Both Tasks             | 0.92                   | 0.89   | 0.94   | 0.91   | 21000              |\n"
   ]
  }
 ],
 "metadata": {
  "language_info": {
   "name": "python"
  }
 },
 "nbformat": 4,
 "nbformat_minor": 2
}
