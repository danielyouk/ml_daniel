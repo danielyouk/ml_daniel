{
 "cells": [
  {
   "cell_type": "markdown",
   "metadata": {},
   "source": [
    "## List Comprehension\n",
    "* List comprehensions make your code concise and readable especially when using nested for loops. \n",
    "* Writing concise code is important for advancing to a senior level."
   ]
  },
  {
   "cell_type": "code",
   "execution_count": 1,
   "metadata": {
    "scrolled": true
   },
   "outputs": [
    {
     "data": {
      "text/plain": [
       "['I love apple',\n",
       " 'I love banana',\n",
       " 'I love cherry',\n",
       " 'I love date',\n",
       " 'I love elderberry',\n",
       " 'I love grape',\n",
       " 'I love avocado',\n",
       " 'I love kiwi',\n",
       " 'I love lemon',\n",
       " 'I love mango',\n",
       " 'I love nectarine',\n",
       " 'I love orange',\n",
       " 'I love papaya',\n",
       " 'I love raspberry',\n",
       " 'I love strawberry',\n",
       " 'I love tangerine',\n",
       " 'I love watermelon']"
      ]
     },
     "execution_count": 1,
     "metadata": {},
     "output_type": "execute_result"
    }
   ],
   "source": [
    "fruites = ['apple', 'banana', 'cherry', 'date', 'elderberry', 'grape', 'avocado', 'kiwi', \n",
    "           'lemon', 'mango', 'nectarine', 'orange','papaya', 'raspberry', 'strawberry', 'tangerine', 'watermelon']\n",
    "[f\"I love {fruit}\" for fruit in fruites]"
   ]
  },
  {
   "cell_type": "code",
   "execution_count": 2,
   "metadata": {},
   "outputs": [
    {
     "data": {
      "text/plain": [
       "['I love apple', 'I love avocado']"
      ]
     },
     "execution_count": 2,
     "metadata": {},
     "output_type": "execute_result"
    }
   ],
   "source": [
    "[f\"I love {fruit}\" for fruit in fruites if fruit.startswith('a')]"
   ]
  },
  {
   "cell_type": "code",
   "execution_count": 3,
   "metadata": {},
   "outputs": [
    {
     "data": {
      "text/plain": [
       "[(0, 1),\n",
       " (0, 2),\n",
       " (0, 3),\n",
       " (0, 4),\n",
       " (1, 0),\n",
       " (1, 2),\n",
       " (1, 3),\n",
       " (1, 4),\n",
       " (2, 0),\n",
       " (2, 1),\n",
       " (2, 3),\n",
       " (2, 4),\n",
       " (3, 0),\n",
       " (3, 1),\n",
       " (3, 2),\n",
       " (3, 4),\n",
       " (4, 0),\n",
       " (4, 1),\n",
       " (4, 2),\n",
       " (4, 3)]"
      ]
     },
     "execution_count": 3,
     "metadata": {},
     "output_type": "execute_result"
    }
   ],
   "source": [
    "combined_numbers = [(x, y) for x in range(5) for y in range(5) if x != y]\n",
    "\n",
    "combined_numbers"
   ]
  },
  {
   "cell_type": "code",
   "execution_count": 4,
   "metadata": {},
   "outputs": [
    {
     "data": {
      "text/plain": [
       "[(0, 1),\n",
       " (0, 2),\n",
       " (0, 3),\n",
       " (0, 4),\n",
       " (1, 0),\n",
       " (1, 2),\n",
       " (1, 3),\n",
       " (1, 4),\n",
       " (2, 0),\n",
       " (2, 1),\n",
       " (2, 3),\n",
       " (2, 4),\n",
       " (3, 0),\n",
       " (3, 1),\n",
       " (3, 2),\n",
       " (3, 4),\n",
       " (4, 0),\n",
       " (4, 1),\n",
       " (4, 2),\n",
       " (4, 3)]"
      ]
     },
     "execution_count": 4,
     "metadata": {},
     "output_type": "execute_result"
    }
   ],
   "source": [
    "combined_numbers = []\n",
    "for x in range(5):\n",
    "    for y in range(5):\n",
    "        if x != y:\n",
    "            combined_numbers.append((x, y))\n",
    "\n",
    "combined_numbers"
   ]
  },
  {
   "cell_type": "code",
   "execution_count": 6,
   "metadata": {},
   "outputs": [
    {
     "name": "stdout",
     "output_type": "stream",
     "text": [
      "[0, 0, 0, 1, 1]\n"
     ]
    }
   ],
   "source": [
    "y_pred = [0.1, 0.4, 0.35, 0.8, 0.6]\n",
    "i = 0.5\n",
    "binary_predictions = [1 if y >= i else 0 for y in y_pred]\n",
    "\n",
    "print(binary_predictions)"
   ]
  }
 ],
 "metadata": {
  "celltoolbar": "Slideshow",
  "kernelspec": {
   "display_name": "Python 3 (ipykernel)",
   "language": "python",
   "name": "python3"
  },
  "language_info": {
   "codemirror_mode": {
    "name": "ipython",
    "version": 3
   },
   "file_extension": ".py",
   "mimetype": "text/x-python",
   "name": "python",
   "nbconvert_exporter": "python",
   "pygments_lexer": "ipython3",
   "version": "3.11.9"
  }
 },
 "nbformat": 4,
 "nbformat_minor": 4
}
