{
 "cells": [
  {
   "cell_type": "markdown",
   "metadata": {},
   "source": [
    "# Introduction to Machine Learning Evaluation Metrics\n",
    "\n",
    "In machine learning, evaluating the performance of models is crucial to ensure their effectiveness and reliability. Different metrics are used depending on the type of problem (classification or regression). Below are some common evaluation metrics we will be discussing:\n",
    "\n",
    "## Classification Algorithm Metrics\n",
    "1. **Accuracy**: The ratio of correctly predicted instances to the total instances.\n",
    "2. **Precision**: The ratio of correctly predicted positive observations to the total predicted positives.\n",
    "3. **Recall and F1 Score**: \n",
    "   - Recall: The ratio of correctly predicted positive observations to all the observations in the actual class.\n",
    "   - F1 Score: The weighted average of Precision and Recall.\n",
    "4. **ROC-AUC**: Receiver Operating Characteristic - Area Under Curve. It represents the probability that the model ranks a random positive instance higher than a random negative instance.\n",
    "5. **Log Loss**: Also known as logistic loss or cross-entropy loss, it evaluates the performance of a classification model where the prediction input is a probability value between 0 and 1.\n",
    "\n",
    "## Regression Algorithm Metrics\n",
    "1. **MAE, MSE & RMSE**: \n",
    "   - MAE (Mean Absolute Error): The average of the absolute errors.\n",
    "   - MSE (Mean Squared Error): The average of the squared errors.\n",
    "   - RMSE (Root Mean Squared Error): The square root of the average of squared differences between prediction and actual observation.\n",
    "2. **R² (R-Squared) or Coefficient of Determination**: It provides an indication of how well the model's predictions approximate the real data points.\n",
    "\n",
    "Understanding and correctly applying these metrics is essential for building robust machine learning models and interpreting their results effectively. Each metric provides different insights, and often multiple metrics are used in combination to get a comprehensive understanding of model performance.\n"
   ]
  },
  {
   "cell_type": "markdown",
   "metadata": {},
   "source": [
    "============================================================================================================================="
   ]
  },
  {
   "cell_type": "markdown",
   "metadata": {},
   "source": [
    "## Classification Metrics: Accuracy"
   ]
  },
  {
   "cell_type": "code",
   "execution_count": 19,
   "metadata": {},
   "outputs": [],
   "source": [
    "import pandas as pd"
   ]
  },
  {
   "cell_type": "code",
   "execution_count": 20,
   "metadata": {},
   "outputs": [],
   "source": [
    "def accuracy(y_true, y_pred): \n",
    "    \"\"\" \n",
    "    Function to calculate accuracy \n",
    "    :param y_true: list of true values \n",
    "    :param y_pred: list of predicted values \n",
    "    :return: accuracy score \n",
    "    \"\"\" \n",
    "    # initialize a simple counter for correct predictions \n",
    "    correct_counter = 0 \n",
    "    # loop over all elements of y_true \n",
    "    # and y_pred \"together\" \n",
    "    for yt, yp in zip(y_true, y_pred): \n",
    "        if yt == yp: \n",
    "            # if prediction is equal to truth, increase the counter \n",
    "            correct_counter += 1 \n",
    " \n",
    "    # return accuracy \n",
    "    # which is correct predictions over the number of samples \n",
    "    return correct_counter / len(y_true) "
   ]
  },
  {
   "cell_type": "code",
   "execution_count": 21,
   "metadata": {},
   "outputs": [],
   "source": [
    "def true_positive(y_true, y_pred): \n",
    "    \"\"\" \n",
    "    Function to calculate True Positives \n",
    "    :param y_true: list of true values \n",
    "    :param y_pred: list of predicted values \n",
    "    :return: number of true positives \n",
    "    \"\"\" \n",
    "    # initialize \n",
    "    tp = 0 \n",
    "    for yt, yp in zip(y_true, y_pred): \n",
    "        if yt == 1 and yp == 1: \n",
    "            tp += 1 \n",
    "    return tp \n",
    " \n",
    "def true_negative(y_true, y_pred): \n",
    "    \"\"\" \n",
    "    Function to calculate True Negatives \n",
    "    :param y_true: list of true values \n",
    "    :param y_pred: list of predicted values \n",
    "    :return: number of true negatives \n",
    "    \"\"\" \n",
    "    # initialize \n",
    "    tn = 0 \n",
    "    for yt, yp in zip(y_true, y_pred): \n",
    "        if yt == 0 and yp == 0: \n",
    "            tn += 1 \n",
    "    return tn \n",
    " \n",
    "def false_positive(y_true, y_pred): \n",
    "    \"\"\" \n",
    "    Function to calculate False Positives \n",
    "    :param y_true: list of true values \n",
    "    :param y_pred: list of predicted values \n",
    "    :return: number of false positives \n",
    "    \"\"\" \n",
    "    # initialize \n",
    "    fp = 0 \n",
    "    for yt, yp in zip(y_true, y_pred): \n",
    "        if yt == 0 and yp == 1: \n",
    "            fp += 1 \n",
    "    return fp \n",
    " \n",
    "def false_negative(y_true, y_pred): \n",
    "    \"\"\" \n",
    "    Function to calculate False Negatives \n",
    "    :param y_true: list of true values \n",
    "    :param y_pred: list of predicted values \n",
    "    :return: number of false negatives \n",
    "    \"\"\" \n",
    "    # initialize \n",
    "    fn = 0 \n",
    "    for yt, yp in zip(y_true, y_pred): \n",
    "        if yt == 1 and yp == 0: \n",
    "            fn += 1 \n",
    "    return fn"
   ]
  },
  {
   "cell_type": "code",
   "execution_count": 22,
   "metadata": {},
   "outputs": [],
   "source": [
    "def accuracy_v2(y_true, y_pred): \n",
    "    \"\"\" \n",
    "    Function to calculate accuracy using tp/tn/fp/fn \n",
    "    :param y_true: list of true values \n",
    "    :param y_pred: list of predicted values \n",
    "    :return: accuracy score \n",
    "    \"\"\" \n",
    "    tp = true_positive(y_true, y_pred) \n",
    "    fp = false_positive(y_true, y_pred) \n",
    "    fn = false_negative(y_true, y_pred) \n",
    "    tn = true_negative(y_true, y_pred) \n",
    "    accuracy_score = (tp + tn) / (tp + tn + fp + fn) \n",
    "    return accuracy_score"
   ]
  },
  {
   "cell_type": "markdown",
   "metadata": {},
   "source": [
    "============================================================================================================================="
   ]
  },
  {
   "cell_type": "markdown",
   "metadata": {},
   "source": [
    "## Classification Metrics: Precision"
   ]
  },
  {
   "cell_type": "code",
   "execution_count": 23,
   "metadata": {},
   "outputs": [],
   "source": [
    "def precision(y_true, y_pred): \n",
    "    \"\"\" \n",
    "    Function to calculate precision \n",
    "    :param y_true: list of true values \n",
    "    :param y_pred: list of predicted values \n",
    "    :return: precision score \n",
    "    \"\"\" \n",
    "    tp = true_positive(y_true, y_pred) \n",
    "    fp = false_positive(y_true, y_pred) \n",
    "    precision = tp / (tp + fp) \n",
    "    return precision "
   ]
  },
  {
   "cell_type": "markdown",
   "metadata": {},
   "source": [
    "============================================================================================================================="
   ]
  },
  {
   "cell_type": "markdown",
   "metadata": {},
   "source": [
    "## Classification Metrics: Recall"
   ]
  },
  {
   "cell_type": "code",
   "execution_count": 24,
   "metadata": {},
   "outputs": [],
   "source": [
    "def recall(y_true, y_pred): \n",
    "    \"\"\" \n",
    "    Function to calculate recall \n",
    "    :param y_true: list of true values \n",
    "    :param y_pred: list of predicted values \n",
    "    :return: recall score \n",
    "    \"\"\" \n",
    "    tp = true_positive(y_true, y_pred) \n",
    "    fn = false_negative(y_true, y_pred) \n",
    "    recall = tp / (tp + fn) \n",
    "    return recall"
   ]
  },
  {
   "cell_type": "code",
   "execution_count": 25,
   "metadata": {},
   "outputs": [],
   "source": [
    "# actual targets \n",
    "y_true = [0, 0, 0, 0, 1, 0, 1,  \n",
    "          0, 0, 1, 0, 1, 0, 0, 1] \n",
    " \n",
    "# predicted probabilities of a sample being 1 \n",
    "y_pred = [0.1, 0.3, 0.2, 0.6, 0.8, 0.05,  \n",
    "          0.9, 0.5, 0.3, 0.66, 0.3, 0.2,  \n",
    "          0.85, 0.15, 0.99] \n",
    " \n",
    "# handmade thresholds \n",
    "thresholds = [0, 0.1, 0.2, 0.3, 0.4, 0.5, \n",
    "              0.6, 0.7, 0.8, 0.85, 0.9, 0.99, 1.0] "
   ]
  },
  {
   "cell_type": "code",
   "execution_count": 26,
   "metadata": {},
   "outputs": [],
   "source": [
    "tps = []\n",
    "fps = []\n",
    "tns = []\n",
    "fns = []\n",
    "# for every threshold, calculate predictions in binary \n",
    "# and append calculated precisions and recalls \n",
    "# to their respective lists \n",
    "for i in thresholds: \n",
    "    temp_prediction = [1 if y >= i else 0 for y in y_pred] \n",
    "    # p = precision(y_true, temp_prediction) \n",
    "    # r = recall(y_true, temp_prediction) \n",
    "    tp = true_positive(y_true, temp_prediction)\n",
    "    fp = false_positive(y_true, temp_prediction)\n",
    "    tn = true_negative(y_true, temp_prediction)\n",
    "    fn = false_negative(y_true, temp_prediction)\n",
    "    # precisions.append(p) \n",
    "    # recalls.append(r)\n",
    "    tps.append(tp)\n",
    "    fps.append(fp)\n",
    "    tns.append(tn)\n",
    "    fns.append(fn)\n",
    "    # number of true positives\n",
    "    \n",
    "\n",
    "# create the dataframe with thresholds, precisions, and recalls\n",
    "df_confusion_metrix = pd.DataFrame({'Thresholds': thresholds, \n",
    "                                      'TruePositive': tps,'FalsePositive': fps,\n",
    "                                      'TrueNegative': tns,'FalseNegative': fns})"
   ]
  },
  {
   "cell_type": "code",
   "execution_count": 27,
   "metadata": {},
   "outputs": [],
   "source": [
    "df_confusion_metrix[\"recall\"] = df_confusion_metrix[\"TruePositive\"] / (df_confusion_metrix[\"TruePositive\"] + df_confusion_metrix[\"FalseNegative\"])\n",
    "df_confusion_metrix[\"precision\"] = df_confusion_metrix[\"TruePositive\"] / (df_confusion_metrix[\"TruePositive\"] + df_confusion_metrix[\"FalsePositive\"])\n",
    "df_confusion_metrix[\"FalsePositiveRatio\"] = df_confusion_metrix[\"FalsePositive\"] / (df_confusion_metrix[\"FalsePositive\"] + df_confusion_metrix[\"TrueNegative\"])\n",
    "\n",
    "# add F1 score to the dataframe\n",
    "df_confusion_metrix[\"f1_score\"] = 2 * (df_confusion_metrix[\"precision\"] * df_confusion_metrix[\"recall\"]) / (df_confusion_metrix[\"precision\"] + df_confusion_metrix[\"recall\"])\n"
   ]
  },
  {
   "cell_type": "code",
   "execution_count": 28,
   "metadata": {},
   "outputs": [
    {
     "data": {
      "application/vnd.plotly.v1+json": {
       "config": {
        "plotlyServerURL": "https://plot.ly"
       },
       "data": [
        {
         "mode": "lines+markers",
         "name": "Recall",
         "type": "scatter",
         "x": [
          0,
          0.1,
          0.2,
          0.3,
          0.4,
          0.5,
          0.6,
          0.7,
          0.8,
          0.85,
          0.9,
          0.99,
          1
         ],
         "y": [
          1,
          1,
          1,
          0.8,
          0.8,
          0.8,
          0.8,
          0.6,
          0.6,
          0.4,
          0.4,
          0.2,
          0
         ]
        },
        {
         "mode": "lines+markers",
         "name": "Precision",
         "type": "scatter",
         "x": [
          0,
          0.1,
          0.2,
          0.3,
          0.4,
          0.5,
          0.6,
          0.7,
          0.8,
          0.85,
          0.9,
          0.99,
          1
         ],
         "y": [
          0.33,
          0.36,
          0.42,
          0.4,
          0.57,
          0.57,
          0.67,
          0.75,
          0.75,
          0.67,
          1,
          1,
          null
         ]
        },
        {
         "mode": "lines+markers",
         "name": "F1 Score",
         "type": "scatter",
         "x": [
          0,
          0.1,
          0.2,
          0.3,
          0.4,
          0.5,
          0.6,
          0.7,
          0.8,
          0.85,
          0.9,
          0.99,
          1
         ],
         "y": [
          0.5,
          0.53,
          0.59,
          0.53,
          0.67,
          0.67,
          0.73,
          0.67,
          0.67,
          0.5,
          0.57,
          0.33,
          null
         ]
        }
       ],
       "layout": {
        "template": {
         "data": {
          "bar": [
           {
            "error_x": {
             "color": "#2a3f5f"
            },
            "error_y": {
             "color": "#2a3f5f"
            },
            "marker": {
             "line": {
              "color": "#E5ECF6",
              "width": 0.5
             },
             "pattern": {
              "fillmode": "overlay",
              "size": 10,
              "solidity": 0.2
             }
            },
            "type": "bar"
           }
          ],
          "barpolar": [
           {
            "marker": {
             "line": {
              "color": "#E5ECF6",
              "width": 0.5
             },
             "pattern": {
              "fillmode": "overlay",
              "size": 10,
              "solidity": 0.2
             }
            },
            "type": "barpolar"
           }
          ],
          "carpet": [
           {
            "aaxis": {
             "endlinecolor": "#2a3f5f",
             "gridcolor": "white",
             "linecolor": "white",
             "minorgridcolor": "white",
             "startlinecolor": "#2a3f5f"
            },
            "baxis": {
             "endlinecolor": "#2a3f5f",
             "gridcolor": "white",
             "linecolor": "white",
             "minorgridcolor": "white",
             "startlinecolor": "#2a3f5f"
            },
            "type": "carpet"
           }
          ],
          "choropleth": [
           {
            "colorbar": {
             "outlinewidth": 0,
             "ticks": ""
            },
            "type": "choropleth"
           }
          ],
          "contour": [
           {
            "colorbar": {
             "outlinewidth": 0,
             "ticks": ""
            },
            "colorscale": [
             [
              0,
              "#0d0887"
             ],
             [
              0.1111111111111111,
              "#46039f"
             ],
             [
              0.2222222222222222,
              "#7201a8"
             ],
             [
              0.3333333333333333,
              "#9c179e"
             ],
             [
              0.4444444444444444,
              "#bd3786"
             ],
             [
              0.5555555555555556,
              "#d8576b"
             ],
             [
              0.6666666666666666,
              "#ed7953"
             ],
             [
              0.7777777777777778,
              "#fb9f3a"
             ],
             [
              0.8888888888888888,
              "#fdca26"
             ],
             [
              1,
              "#f0f921"
             ]
            ],
            "type": "contour"
           }
          ],
          "contourcarpet": [
           {
            "colorbar": {
             "outlinewidth": 0,
             "ticks": ""
            },
            "type": "contourcarpet"
           }
          ],
          "heatmap": [
           {
            "colorbar": {
             "outlinewidth": 0,
             "ticks": ""
            },
            "colorscale": [
             [
              0,
              "#0d0887"
             ],
             [
              0.1111111111111111,
              "#46039f"
             ],
             [
              0.2222222222222222,
              "#7201a8"
             ],
             [
              0.3333333333333333,
              "#9c179e"
             ],
             [
              0.4444444444444444,
              "#bd3786"
             ],
             [
              0.5555555555555556,
              "#d8576b"
             ],
             [
              0.6666666666666666,
              "#ed7953"
             ],
             [
              0.7777777777777778,
              "#fb9f3a"
             ],
             [
              0.8888888888888888,
              "#fdca26"
             ],
             [
              1,
              "#f0f921"
             ]
            ],
            "type": "heatmap"
           }
          ],
          "heatmapgl": [
           {
            "colorbar": {
             "outlinewidth": 0,
             "ticks": ""
            },
            "colorscale": [
             [
              0,
              "#0d0887"
             ],
             [
              0.1111111111111111,
              "#46039f"
             ],
             [
              0.2222222222222222,
              "#7201a8"
             ],
             [
              0.3333333333333333,
              "#9c179e"
             ],
             [
              0.4444444444444444,
              "#bd3786"
             ],
             [
              0.5555555555555556,
              "#d8576b"
             ],
             [
              0.6666666666666666,
              "#ed7953"
             ],
             [
              0.7777777777777778,
              "#fb9f3a"
             ],
             [
              0.8888888888888888,
              "#fdca26"
             ],
             [
              1,
              "#f0f921"
             ]
            ],
            "type": "heatmapgl"
           }
          ],
          "histogram": [
           {
            "marker": {
             "pattern": {
              "fillmode": "overlay",
              "size": 10,
              "solidity": 0.2
             }
            },
            "type": "histogram"
           }
          ],
          "histogram2d": [
           {
            "colorbar": {
             "outlinewidth": 0,
             "ticks": ""
            },
            "colorscale": [
             [
              0,
              "#0d0887"
             ],
             [
              0.1111111111111111,
              "#46039f"
             ],
             [
              0.2222222222222222,
              "#7201a8"
             ],
             [
              0.3333333333333333,
              "#9c179e"
             ],
             [
              0.4444444444444444,
              "#bd3786"
             ],
             [
              0.5555555555555556,
              "#d8576b"
             ],
             [
              0.6666666666666666,
              "#ed7953"
             ],
             [
              0.7777777777777778,
              "#fb9f3a"
             ],
             [
              0.8888888888888888,
              "#fdca26"
             ],
             [
              1,
              "#f0f921"
             ]
            ],
            "type": "histogram2d"
           }
          ],
          "histogram2dcontour": [
           {
            "colorbar": {
             "outlinewidth": 0,
             "ticks": ""
            },
            "colorscale": [
             [
              0,
              "#0d0887"
             ],
             [
              0.1111111111111111,
              "#46039f"
             ],
             [
              0.2222222222222222,
              "#7201a8"
             ],
             [
              0.3333333333333333,
              "#9c179e"
             ],
             [
              0.4444444444444444,
              "#bd3786"
             ],
             [
              0.5555555555555556,
              "#d8576b"
             ],
             [
              0.6666666666666666,
              "#ed7953"
             ],
             [
              0.7777777777777778,
              "#fb9f3a"
             ],
             [
              0.8888888888888888,
              "#fdca26"
             ],
             [
              1,
              "#f0f921"
             ]
            ],
            "type": "histogram2dcontour"
           }
          ],
          "mesh3d": [
           {
            "colorbar": {
             "outlinewidth": 0,
             "ticks": ""
            },
            "type": "mesh3d"
           }
          ],
          "parcoords": [
           {
            "line": {
             "colorbar": {
              "outlinewidth": 0,
              "ticks": ""
             }
            },
            "type": "parcoords"
           }
          ],
          "pie": [
           {
            "automargin": true,
            "type": "pie"
           }
          ],
          "scatter": [
           {
            "fillpattern": {
             "fillmode": "overlay",
             "size": 10,
             "solidity": 0.2
            },
            "type": "scatter"
           }
          ],
          "scatter3d": [
           {
            "line": {
             "colorbar": {
              "outlinewidth": 0,
              "ticks": ""
             }
            },
            "marker": {
             "colorbar": {
              "outlinewidth": 0,
              "ticks": ""
             }
            },
            "type": "scatter3d"
           }
          ],
          "scattercarpet": [
           {
            "marker": {
             "colorbar": {
              "outlinewidth": 0,
              "ticks": ""
             }
            },
            "type": "scattercarpet"
           }
          ],
          "scattergeo": [
           {
            "marker": {
             "colorbar": {
              "outlinewidth": 0,
              "ticks": ""
             }
            },
            "type": "scattergeo"
           }
          ],
          "scattergl": [
           {
            "marker": {
             "colorbar": {
              "outlinewidth": 0,
              "ticks": ""
             }
            },
            "type": "scattergl"
           }
          ],
          "scattermapbox": [
           {
            "marker": {
             "colorbar": {
              "outlinewidth": 0,
              "ticks": ""
             }
            },
            "type": "scattermapbox"
           }
          ],
          "scatterpolar": [
           {
            "marker": {
             "colorbar": {
              "outlinewidth": 0,
              "ticks": ""
             }
            },
            "type": "scatterpolar"
           }
          ],
          "scatterpolargl": [
           {
            "marker": {
             "colorbar": {
              "outlinewidth": 0,
              "ticks": ""
             }
            },
            "type": "scatterpolargl"
           }
          ],
          "scatterternary": [
           {
            "marker": {
             "colorbar": {
              "outlinewidth": 0,
              "ticks": ""
             }
            },
            "type": "scatterternary"
           }
          ],
          "surface": [
           {
            "colorbar": {
             "outlinewidth": 0,
             "ticks": ""
            },
            "colorscale": [
             [
              0,
              "#0d0887"
             ],
             [
              0.1111111111111111,
              "#46039f"
             ],
             [
              0.2222222222222222,
              "#7201a8"
             ],
             [
              0.3333333333333333,
              "#9c179e"
             ],
             [
              0.4444444444444444,
              "#bd3786"
             ],
             [
              0.5555555555555556,
              "#d8576b"
             ],
             [
              0.6666666666666666,
              "#ed7953"
             ],
             [
              0.7777777777777778,
              "#fb9f3a"
             ],
             [
              0.8888888888888888,
              "#fdca26"
             ],
             [
              1,
              "#f0f921"
             ]
            ],
            "type": "surface"
           }
          ],
          "table": [
           {
            "cells": {
             "fill": {
              "color": "#EBF0F8"
             },
             "line": {
              "color": "white"
             }
            },
            "header": {
             "fill": {
              "color": "#C8D4E3"
             },
             "line": {
              "color": "white"
             }
            },
            "type": "table"
           }
          ]
         },
         "layout": {
          "annotationdefaults": {
           "arrowcolor": "#2a3f5f",
           "arrowhead": 0,
           "arrowwidth": 1
          },
          "autotypenumbers": "strict",
          "coloraxis": {
           "colorbar": {
            "outlinewidth": 0,
            "ticks": ""
           }
          },
          "colorscale": {
           "diverging": [
            [
             0,
             "#8e0152"
            ],
            [
             0.1,
             "#c51b7d"
            ],
            [
             0.2,
             "#de77ae"
            ],
            [
             0.3,
             "#f1b6da"
            ],
            [
             0.4,
             "#fde0ef"
            ],
            [
             0.5,
             "#f7f7f7"
            ],
            [
             0.6,
             "#e6f5d0"
            ],
            [
             0.7,
             "#b8e186"
            ],
            [
             0.8,
             "#7fbc41"
            ],
            [
             0.9,
             "#4d9221"
            ],
            [
             1,
             "#276419"
            ]
           ],
           "sequential": [
            [
             0,
             "#0d0887"
            ],
            [
             0.1111111111111111,
             "#46039f"
            ],
            [
             0.2222222222222222,
             "#7201a8"
            ],
            [
             0.3333333333333333,
             "#9c179e"
            ],
            [
             0.4444444444444444,
             "#bd3786"
            ],
            [
             0.5555555555555556,
             "#d8576b"
            ],
            [
             0.6666666666666666,
             "#ed7953"
            ],
            [
             0.7777777777777778,
             "#fb9f3a"
            ],
            [
             0.8888888888888888,
             "#fdca26"
            ],
            [
             1,
             "#f0f921"
            ]
           ],
           "sequentialminus": [
            [
             0,
             "#0d0887"
            ],
            [
             0.1111111111111111,
             "#46039f"
            ],
            [
             0.2222222222222222,
             "#7201a8"
            ],
            [
             0.3333333333333333,
             "#9c179e"
            ],
            [
             0.4444444444444444,
             "#bd3786"
            ],
            [
             0.5555555555555556,
             "#d8576b"
            ],
            [
             0.6666666666666666,
             "#ed7953"
            ],
            [
             0.7777777777777778,
             "#fb9f3a"
            ],
            [
             0.8888888888888888,
             "#fdca26"
            ],
            [
             1,
             "#f0f921"
            ]
           ]
          },
          "colorway": [
           "#636efa",
           "#EF553B",
           "#00cc96",
           "#ab63fa",
           "#FFA15A",
           "#19d3f3",
           "#FF6692",
           "#B6E880",
           "#FF97FF",
           "#FECB52"
          ],
          "font": {
           "color": "#2a3f5f"
          },
          "geo": {
           "bgcolor": "white",
           "lakecolor": "white",
           "landcolor": "#E5ECF6",
           "showlakes": true,
           "showland": true,
           "subunitcolor": "white"
          },
          "hoverlabel": {
           "align": "left"
          },
          "hovermode": "closest",
          "mapbox": {
           "style": "light"
          },
          "paper_bgcolor": "white",
          "plot_bgcolor": "#E5ECF6",
          "polar": {
           "angularaxis": {
            "gridcolor": "white",
            "linecolor": "white",
            "ticks": ""
           },
           "bgcolor": "#E5ECF6",
           "radialaxis": {
            "gridcolor": "white",
            "linecolor": "white",
            "ticks": ""
           }
          },
          "scene": {
           "xaxis": {
            "backgroundcolor": "#E5ECF6",
            "gridcolor": "white",
            "gridwidth": 2,
            "linecolor": "white",
            "showbackground": true,
            "ticks": "",
            "zerolinecolor": "white"
           },
           "yaxis": {
            "backgroundcolor": "#E5ECF6",
            "gridcolor": "white",
            "gridwidth": 2,
            "linecolor": "white",
            "showbackground": true,
            "ticks": "",
            "zerolinecolor": "white"
           },
           "zaxis": {
            "backgroundcolor": "#E5ECF6",
            "gridcolor": "white",
            "gridwidth": 2,
            "linecolor": "white",
            "showbackground": true,
            "ticks": "",
            "zerolinecolor": "white"
           }
          },
          "shapedefaults": {
           "line": {
            "color": "#2a3f5f"
           }
          },
          "ternary": {
           "aaxis": {
            "gridcolor": "white",
            "linecolor": "white",
            "ticks": ""
           },
           "baxis": {
            "gridcolor": "white",
            "linecolor": "white",
            "ticks": ""
           },
           "bgcolor": "#E5ECF6",
           "caxis": {
            "gridcolor": "white",
            "linecolor": "white",
            "ticks": ""
           }
          },
          "title": {
           "x": 0.05
          },
          "xaxis": {
           "automargin": true,
           "gridcolor": "white",
           "linecolor": "white",
           "ticks": "",
           "title": {
            "standoff": 15
           },
           "zerolinecolor": "white",
           "zerolinewidth": 2
          },
          "yaxis": {
           "automargin": true,
           "gridcolor": "white",
           "linecolor": "white",
           "ticks": "",
           "title": {
            "standoff": 15
           },
           "zerolinecolor": "white",
           "zerolinewidth": 2
          }
         }
        },
        "title": {
         "text": "Recalls, Precisions and F1 Score"
        },
        "xaxis": {
         "title": {
          "text": "Thresholds"
         }
        },
        "yaxis": {
         "title": {
          "text": "Scores"
         }
        }
       }
      }
     },
     "metadata": {},
     "output_type": "display_data"
    }
   ],
   "source": [
    "# Import the graph_objects module from the Plotly library\n",
    "import plotly.graph_objects as go\n",
    "\n",
    "# Create a new figure for plotting\n",
    "fig = go.Figure()\n",
    "\n",
    "# Round the values in the df_confusion_metrix DataFrame to two decimal places\n",
    "df_confusion_metrix_graph = df_confusion_metrix.round(2)\n",
    "\n",
    "# Add a line plot to the figure for the Recall metric\n",
    "# The x values are the threshold values, and the y values are the Recall scores\n",
    "fig.add_trace(go.Scatter(x=df_confusion_metrix_graph['Thresholds'], y=df_confusion_metrix_graph['recall'], mode='lines+markers', name='Recall'))\n",
    "\n",
    "# Add a line plot to the figure for the Precision metric\n",
    "# The x values are the threshold values, and the y values are the Precision scores\n",
    "fig.add_trace(go.Scatter(x=df_confusion_metrix_graph['Thresholds'], y=df_confusion_metrix_graph['precision'], mode='lines+markers', name='Precision'))\n",
    "\n",
    "# Add a line plot to the figure for the F1 Score metric\n",
    "# The x values are the threshold values, and the y values are the F1 Score scores\n",
    "fig.add_trace(go.Scatter(x=df_confusion_metrix_graph['Thresholds'], y=df_confusion_metrix_graph['f1_score'], mode='lines+markers', name='F1 Score'))\n",
    "\n",
    "# Update the layout of the figure, setting the title of the figure and the titles of the x and y axes\n",
    "fig.update_layout(title='Recalls, Precisions and F1 Score', xaxis_title='Thresholds', yaxis_title='Scores')\n",
    "\n",
    "# Display the figure\n",
    "fig.show()"
   ]
  },
  {
   "cell_type": "markdown",
   "metadata": {},
   "source": [
    "## Classification Metrics: ROC (Receiver Operating Characteristic) and AUC"
   ]
  },
  {
   "cell_type": "code",
   "execution_count": 29,
   "metadata": {},
   "outputs": [
    {
     "data": {
      "image/png": "[encoded data removed]",
      "text/plain": [
       "<Figure size 700x700 with 1 Axes>"
      ]
     },
     "metadata": {},
     "output_type": "display_data"
    },
    {
     "name": "stdout",
     "output_type": "stream",
     "text": [
      "auc is 0.83\n"
     ]
    }
   ],
   "source": [
    "# plot ROC curve\n",
    "import matplotlib.pyplot as plt\n",
    "df_confusion_metrix_graph = df_confusion_metrix.round(2)\n",
    "plt.figure(figsize=(7, 7))\n",
    "plt.plot(df_confusion_metrix_graph[\"FalsePositiveRatio\"], df_confusion_metrix_graph[\"recall\"], marker='o', linestyle='--', color='b')\n",
    "plt.xlabel('False Positive Ratio')\n",
    "plt.ylabel('True Positive Ratio')\n",
    "plt.title('ROC Curve')\n",
    "plt.show()\n",
    "\n",
    "# calculate the auc score\n",
    "from sklearn.metrics import roc_auc_score\n",
    "# Compute the Area Under the Receiver Operating Characteristic Curve (AUC-ROC) from prediction scores.\n",
    "# roc_auc_score uses a set of thresholds to calculate the score. The thresholds are determined internally based on the values in y_pred.\n",
    "# y_pred is the probability estimates of the positive class (i.e., the probability that a sample is classified as positive).\n",
    "auc = roc_auc_score(y_true, y_pred)\n",
    "\n",
    "# print auc with 2 decimal points\n",
    "print(f\"auc is {round(auc, 2)}\")"
   ]
  },
  {
   "cell_type": "code",
   "execution_count": 30,
   "metadata": {},
   "outputs": [
    {
     "name": "stdout",
     "output_type": "stream",
     "text": [
      "0.82\n"
     ]
    }
   ],
   "source": [
    "# calculate the area under the curve\n",
    "from sklearn.metrics import auc\n",
    "# FalsePositiveRatio is the x-axis and recall is the y-axis and both values are calculated based on the thresholds defined in the process.\n",
    "auc = auc(df_confusion_metrix[\"FalsePositiveRatio\"], df_confusion_metrix[\"recall\"])\n",
    "print(round(auc, 2))"
   ]
  },
  {
   "cell_type": "markdown",
   "metadata": {},
   "source": [
    "### Evaluation of Models Using AUC and Threshold Selection Using F1 Score:\n",
    "\n",
    "- AUC for Model Evaluation: AUC (Area Under the ROC Curve) is a key metric used to evaluate the performance of binary classification models. A higher AUC indicates a model with better discriminative ability between positive and negative classes. Therefore, when comparing different models, the one with the highest AUC is typically selected as the best-performing model.\n",
    "\n",
    "- F1 Score for Threshold Selection: Once the best model is selected based on AUC, the next step is to determine the optimal threshold for making predictions. The F1 score, which is the harmonic mean of precision and recall, is used for this purpose. The threshold that maximizes the F1 score is chosen, ensuring a balance between precision and recall and leading to the best practical performance of the model.\n",
    "\n",
    "### Use cases from other side\n",
    "* Recall vs Precision: Best for imbalanced datasets where the positive class is rare (e.g., fraud detection, medical diagnosis).\n",
    "* ROC: When the classes are roughly balanced, and overall performance"
   ]
  },
  {
   "cell_type": "markdown",
   "metadata": {},
   "source": [
    "============================================================================================================================="
   ]
  },
  {
   "cell_type": "markdown",
   "metadata": {},
   "source": [
    "## Calssification Metrics: Log-Loss\n",
    "$$\n",
    "\\text{Log Loss} = -\\frac{1}{N} \\sum_{i=1}^{N} \\left[ y_i \\log(p_i) + (1 - y_i) \\log(1 - p_i) \\right]\n",
    "$$\n",
    "\n",
    "Where:\n",
    "$$\n",
    "\\begin{align*}\n",
    "N & \\text{ is the number of samples.} \\\\\n",
    "y_i & \\text{ is the actual label of the } i \\text{-th sample (0 or 1).} \\\\\n",
    "p_i & \\text{ is the predicted probability of the } i \\text{-th sample being in class 1.}\n",
    "\\end{align*}\n",
    "$$\n"
   ]
  },
  {
   "cell_type": "markdown",
   "metadata": {},
   "source": [
    "Why Log Loss?\n",
    "* Probabilistic Predictions: Log loss considers the confidence of predictions by using the predicted probabilities, not just the final binary decision.\n",
    "* Penalization: It heavily penalizes wrong predictions that are made with high confidence. For example, predicting a probability close to 1 when the actual class is 0 results in a high log loss."
   ]
  },
  {
   "cell_type": "code",
   "execution_count": 31,
   "metadata": {},
   "outputs": [
    {
     "name": "stdout",
     "output_type": "stream",
     "text": [
      "Log-Loss: 0.1051\n"
     ]
    }
   ],
   "source": [
    "import numpy as np\n",
    "import pandas as pd\n",
    "from sklearn.datasets import load_iris\n",
    "from sklearn.model_selection import train_test_split\n",
    "from sklearn.linear_model import LogisticRegression\n",
    "from sklearn.metrics import log_loss\n",
    "\n",
    "# Load the Iris dataset\n",
    "iris = load_iris()\n",
    "X = iris.data\n",
    "y = (iris.target == 2).astype(int)  # Convert to a binary classification problem (Class 2 vs. Rest)\n",
    "\n",
    "# Split the data into training and testing sets\n",
    "X_train, X_test, y_train, y_test = train_test_split(X, y, test_size=0.3, random_state=42)\n",
    "\n",
    "# Train a Logistic Regression model\n",
    "model = LogisticRegression()\n",
    "model.fit(X_train, y_train)\n",
    "\n",
    "# Predict probabilities for the test set\n",
    "y_pred = model.predict_proba(X_test)[:, 1]\n",
    "\n",
    "# Calculate Log-Loss\n",
    "logloss = log_loss(y_test, y_pred)\n",
    "print(f'Log-Loss: {logloss:.4f}')"
   ]
  },
  {
   "cell_type": "markdown",
   "metadata": {},
   "source": [
    "============================================================================================================================="
   ]
  },
  {
   "cell_type": "markdown",
   "metadata": {},
   "source": [
    "## Regression Metrics: MAE, MSE, and RMSE\n",
    "\n",
    "### Mean Absolute Error (MAE)\n",
    "The Mean Absolute Error (MAE) is the average of the absolute differences between the predicted values and the actual values. It gives an idea of how wrong the predictions were on average.\n",
    "\n",
    "$$\n",
    "\\text{MAE} = \\frac{1}{n} \\sum_{i=1}^{n} \\left| y_i - \\hat{y}_i \\right|\n",
    "$$\n",
    "\n",
    "Where:\n",
    "- \\( y_i \\) is the actual value.\n",
    "- \\( \\hat{y}_i \\) is the predicted value.\n",
    "- \\( n \\) is the number of observations.\n",
    "\n",
    "### Mean Squared Error (MSE)\n",
    "The Mean Squared Error (MSE) is the average of the squared differences between the predicted values and the actual values. It penalizes larger errors more than smaller ones, making it useful for situations where large errors are particularly undesirable.\n",
    "\n",
    "$$\n",
    "\\text{MSE} = \\frac{1}{n} \\sum_{i=1}^{n} \\left( y_i - \\hat{y}_i \\right)^2\n",
    "$$\n",
    "\n",
    "### Root Mean Squared Error (RMSE)\n",
    "The Root Mean Squared Error (RMSE) is the square root of the average of the squared differences between the predicted values and the actual values. It provides an idea of the magnitude of the error, combining both the advantages of MAE and MSE.\n",
    "\n",
    "$$\n",
    "\\text{RMSE} = \\sqrt{\\frac{1}{n} \\sum_{i=1}^{n} \\left( y_i - \\hat{y}_i \\right)^2}\n",
    "$$\n",
    "\n",
    "### Summary\n",
    "- **MAE**: Measures the average magnitude of the errors in a set of predictions, without considering their direction.\n",
    "- **MSE**: Measures the average of the squares of the errors, which means it penalizes larger errors more than smaller ones.\n",
    "- **RMSE**: Measures the square root of the average of the squared errors, providing a metric that is in the same units as the original data.\n",
    "\n",
    "These metrics are fundamental for evaluating the performance of regression models and help in understanding how well the model predicts the target variable.\n"
   ]
  },
  {
   "cell_type": "code",
   "execution_count": 32,
   "metadata": {},
   "outputs": [
    {
     "name": "stdout",
     "output_type": "stream",
     "text": [
      "Mean Absolute Error (MAE): 1.18\n",
      "Mean Squared Error (MSE): 2.61\n",
      "Root Mean Squared Error (RMSE): 1.62\n"
     ]
    },
    {
     "data": {
      "image/png": "[encoded data removed]",
      "text/plain": [
       "<Figure size 640x480 with 1 Axes>"
      ]
     },
     "metadata": {},
     "output_type": "display_data"
    }
   ],
   "source": [
    "import numpy as np\n",
    "import pandas as pd\n",
    "from sklearn.metrics import mean_absolute_error, mean_squared_error\n",
    "from sklearn.model_selection import train_test_split\n",
    "from sklearn.linear_model import LinearRegression\n",
    "\n",
    "# Create a dummy dataset\n",
    "np.random.seed(42)\n",
    "X = np.random.rand(100, 1) * 10  # 100 samples, 1 feature\n",
    "y = 3.5 * X.squeeze() + np.random.randn(100) * 2  # Linear relationship with some noise\n",
    "\n",
    "# Split the dataset into training and testing sets\n",
    "X_train, X_test, y_train, y_test = train_test_split(X, y, test_size=0.2, random_state=42)\n",
    "\n",
    "# Train a simple linear regression model\n",
    "model = LinearRegression()\n",
    "model.fit(X_train, y_train)\n",
    "\n",
    "# Predict on the test set\n",
    "y_pred = model.predict(X_test)\n",
    "\n",
    "# Calculate MAE, MSE, and RMSE\n",
    "mae = mean_absolute_error(y_test, y_pred)\n",
    "mse = mean_squared_error(y_test, y_pred)\n",
    "rmse = np.sqrt(mse)\n",
    "\n",
    "print(f\"Mean Absolute Error (MAE): {mae:.2f}\")\n",
    "print(f\"Mean Squared Error (MSE): {mse:.2f}\")\n",
    "print(f\"Root Mean Squared Error (RMSE): {rmse:.2f}\")\n",
    "\n",
    "# Optional: Plot the results\n",
    "import matplotlib.pyplot as plt\n",
    "\n",
    "plt.scatter(X_test, y_test, color='blue', label='Actual')\n",
    "plt.scatter(X_test, y_pred, color='red', label='Predicted')\n",
    "plt.xlabel('X')\n",
    "plt.ylabel('y')\n",
    "plt.title('Actual vs Predicted')\n",
    "plt.legend()\n",
    "plt.show()"
   ]
  },
  {
   "cell_type": "markdown",
   "metadata": {},
   "source": [
    "============================================================================================================================="
   ]
  },
  {
   "cell_type": "markdown",
   "metadata": {},
   "source": [
    "## Regression Metrics: R-squared (R²) Coefficient of Determination\n",
    "$$\n",
    "R^2 = 1 - \\frac{\\text{SS}_{\\text{res}}}{\\text{SS}_{\\text{tot}}}\n",
    "$$\n",
    "\n",
    "Where:\n",
    "$$\n",
    "\\begin{align*}\n",
    "\\text{SS}_{\\text{res}} & \\text{ is the residual sum of squares:} \\\\\n",
    "\\text{SS}_{\\text{res}} & = \\sum_{i=1}^{N} (y_i - \\hat{y}_i)^2 \\\\ \n",
    "\\text{SS}_{\\text{tot}} & \\text{ is the total sum of squares:} \\\\\n",
    "\\text{SS}_{\\text{tot}} & = \\sum_{i=1}^{N} (y_i - \\bar{y})^2 \\\\\n",
    "y_i & \\text{ is the actual value.} \\\\\n",
    "\\hat{y}_i & \\text{ is the predicted value.} \\\\\n",
    "\\bar{y} & \\text{ is the mean of the actual values.} \\\\\n",
    "N & \\text{ is the number of observations.}\n",
    "\\end{align*}\n",
    "$$\n",
    "\n",
    "- **Total Variance**: This represents the overall variability in the data, measured by the total sum of squares (SS_tot). It indicates how much the data points deviate from the mean of the dependent variable.\n",
    "- **Explained Variance**: This represents the portion of the total variance that is explained by the model. It reduces the uncertainty in predicting the dependent variable.\n",
    "- **Residual Variance**: This represents the portion of the variance that is not explained by the model, measured by the residual sum of squares (SS_res).\n",
    "\n",
    "By understanding these components, we can better interpret the R-squared value and the effectiveness of our regression model in explaining the variability in the data.\n"
   ]
  },
  {
   "cell_type": "code",
   "execution_count": 33,
   "metadata": {},
   "outputs": [
    {
     "data": {
      "image/png": "[encoded data removed]",
      "text/plain": [
       "<Figure size 1800x500 with 3 Axes>"
      ]
     },
     "metadata": {},
     "output_type": "display_data"
    }
   ],
   "source": [
    "import numpy as np\n",
    "import matplotlib.pyplot as plt\n",
    "from sklearn.linear_model import LinearRegression\n",
    "from sklearn.metrics import r2_score\n",
    "\n",
    "# Function to plot the results\n",
    "def plot_results(X, y, y_pred, title, ax):\n",
    "    ax.scatter(X, y, color='blue', label='Actual')\n",
    "    ax.plot(X, y_pred, color='red', label='Predicted', linewidth=2)\n",
    "    ax.set_title(title)\n",
    "    ax.legend()\n",
    "\n",
    "# Create subplots\n",
    "fig, axs = plt.subplots(1, 3, figsize=(18, 5))\n",
    "\n",
    "# Case 1: R² is almost 1\n",
    "np.random.seed(42)\n",
    "X1 = np.random.rand(100, 1) * 10\n",
    "y1 = 3.5 * X1.squeeze() + np.random.randn(100) * 0.5  # Very low noise\n",
    "model1 = LinearRegression()\n",
    "model1.fit(X1, y1)\n",
    "y1_pred = model1.predict(X1)\n",
    "r2_1 = r2_score(y1, y1_pred)\n",
    "plot_results(X1, y1, y1_pred, f'R² ≈ 1 (R² = {r2_1:.2f})', axs[0])\n",
    "\n",
    "# Case 2: R² is 0\n",
    "X2 = np.random.rand(100, 1) * 10\n",
    "y2 = np.random.randn(100) * 2  # Random noise\n",
    "model2 = LinearRegression()\n",
    "model2.fit(X2, y2)\n",
    "y2_pred = model2.predict(X2)\n",
    "r2_2 = r2_score(y2, y2_pred)\n",
    "plot_results(X2, y2, y2_pred, f'R² = 0 (R² = {r2_2:.2f})', axs[1])\n",
    "\n",
    "# Case 3: R² < 0\n",
    "X3 = np.random.rand(100, 1) * 10\n",
    "y3 = 3.5 * X3.squeeze() + 10 + np.random.randn(100) * 2  # Add a bias to the data\n",
    "model3 = LinearRegression()\n",
    "model3.fit(X3, y3)\n",
    "y3_pred = model3.predict(X3)\n",
    "# To ensure R² is less than 0, we add a strong negative bias to predictions\n",
    "y3_pred_bias = y3_pred - 15  # Introduce significant bias to make R² < 0\n",
    "r2_3 = r2_score(y3, y3_pred_bias)\n",
    "plot_results(X3, y3, y3_pred_bias, f'R² < 0 (R² = {r2_3:.2f})', axs[2])\n",
    "\n",
    "plt.tight_layout()\n",
    "plt.show()\n"
   ]
  },
  {
   "cell_type": "code",
   "execution_count": 34,
   "metadata": {},
   "outputs": [
    {
     "data": {
      "image/png": "[encoded data removed]",
      "text/plain": [
       "<Figure size 1400x500 with 2 Axes>"
      ]
     },
     "metadata": {},
     "output_type": "display_data"
    }
   ],
   "source": [
    "import numpy as np\n",
    "import matplotlib.pyplot as plt\n",
    "from sklearn.linear_model import LinearRegression\n",
    "from sklearn.metrics import r2_score, mean_absolute_error\n",
    "\n",
    "# Function to plot the results\n",
    "def plot_results(X, y, y_pred, title, ax):\n",
    "    ax.scatter(X, y, color='blue', label='Actual')\n",
    "    ax.plot(X, y_pred, color='red', label='Predicted', linewidth=2)\n",
    "    ax.set_title(title)\n",
    "    ax.legend()\n",
    "\n",
    "# Create a dummy dataset\n",
    "np.random.seed(42)\n",
    "X1 = np.random.rand(100, 1) * 10\n",
    "y1 = 3.5 * X1.squeeze() + np.random.randn(100) * 0.5  # Very low noise\n",
    "\n",
    "# Train a simple linear regression model\n",
    "model1 = LinearRegression()\n",
    "model1.fit(X1, y1)\n",
    "y1_pred = model1.predict(X1)\n",
    "\n",
    "# Calculate R² and MAE before adding outliers\n",
    "r2_1 = r2_score(y1, y1_pred)\n",
    "mae_1 = mean_absolute_error(y1, y1_pred)\n",
    "\n",
    "# Add three outliers\n",
    "X1_outliers = np.append(X1, [[20], [22], [24]])\n",
    "y1_outliers = np.append(y1, [60, 65, 70])\n",
    "\n",
    "# Train a new linear regression model with outliers\n",
    "model1_outliers = LinearRegression()\n",
    "model1_outliers.fit(X1_outliers.reshape(-1, 1), y1_outliers)\n",
    "y1_pred_outliers = model1_outliers.predict(X1_outliers.reshape(-1, 1))\n",
    "\n",
    "# Calculate R² and MAE after adding outliers\n",
    "r2_1_outliers = r2_score(y1_outliers, y1_pred_outliers)\n",
    "mae_1_outliers = mean_absolute_error(y1_outliers, y1_pred_outliers)\n",
    "\n",
    "# Plot the results\n",
    "fig, axs = plt.subplots(1, 2, figsize=(14, 5))\n",
    "\n",
    "plot_results(X1, y1, y1_pred, f'Before Outliers: R² = {r2_1:.2f}, MAE = {mae_1:.2f}', axs[0])\n",
    "plot_results(X1_outliers, y1_outliers, y1_pred_outliers, f'After Outliers: R² = {r2_1_outliers:.2f}, MAE = {mae_1_outliers:.2f}', axs[1])\n",
    "\n",
    "plt.tight_layout()\n",
    "plt.show()\n"
   ]
  },
  {
   "cell_type": "markdown",
   "metadata": {},
   "source": [
    "The insight of R2 is that it is much more robust for outliers compared to MAE, MSE and RMSE"
   ]
  }
 ],
 "metadata": {
  "kernelspec": {
   "display_name": "ml-mac",
   "language": "python",
   "name": "python3"
  },
  "language_info": {
   "codemirror_mode": {
    "name": "ipython",
    "version": 3
   },
   "file_extension": ".py",
   "mimetype": "text/x-python",
   "name": "python",
   "nbconvert_exporter": "python",
   "pygments_lexer": "ipython3",
   "version": "3.11.9"
  }
 },
 "nbformat": 4,
 "nbformat_minor": 2
}
